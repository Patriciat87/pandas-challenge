{
 "cells": [
  {
   "cell_type": "markdown",
   "metadata": {},
   "source": [
    "# PyCity Schools Analysis\n",
    "\n",
    "- Write Analysis here\n",
    "  \n",
    "---\n",
    "\n",
    "\n",
    "\n"
   ]
  },
  {
   "cell_type": "code",
   "execution_count": null,
   "metadata": {},
   "outputs": [],
   "source": [
    "import pandas as pd\n",
    "import os\n",
    "import csv"
   ]
  },
  {
   "cell_type": "code",
   "execution_count": null,
   "metadata": {},
   "outputs": [],
   "source": [
    "# Define the file paths (adjust these paths based on your actual file locations)\n",
    "schools_complete_csv = \"C:\\\\Users\\\\Sweet\\\\OneDrive\\\\Documents\\\\GitHub\\\\pandas-challenge\\\\PyCitySchool\\\\Resources\\\\schools_complete.csv\"\n",
    "students_complete_csv = \"C:\\\\Users\\\\Sweet\\\\OneDrive\\\\Documents\\\\GitHub\\\\pandas-challenge\\\\PyCitySchool\\\\Resources\\\\students_complete.csv\"\n"
   ]
  },
  {
   "cell_type": "code",
   "execution_count": null,
   "metadata": {},
   "outputs": [],
   "source": [
    "# Attempt to read the CSV files\n",
    "school_data_df = pd.read_csv(schools_complete_csv)\n",
    "student_data_df = pd.read_csv(students_complete_csv)"
   ]
  },
  {
   "cell_type": "code",
   "execution_count": null,
   "metadata": {},
   "outputs": [],
   "source": [
    "# Display some information to verify successful reading\n",
    "\n",
    "school_data_df.head()\n",
    "    \n",
    "\n",
    "    "
   ]
  },
  {
   "cell_type": "code",
   "execution_count": null,
   "metadata": {},
   "outputs": [],
   "source": [
    "student_data_df.head()"
   ]
  },
  {
   "cell_type": "code",
   "execution_count": null,
   "metadata": {},
   "outputs": [],
   "source": [
    "#Merge the two data frames\n",
    "pycitysch_data = pd.merge (student_data_df, school_data_df, how=\"left\", on=[\"school_name\", \"school_name\"])\n",
    "pycitysch_data.head()"
   ]
  },
  {
   "cell_type": "markdown",
   "metadata": {},
   "source": [
    "## District Summary"
   ]
  },
  {
   "cell_type": "code",
   "execution_count": null,
   "metadata": {},
   "outputs": [],
   "source": [
    "# Calculate the total number of unique schools\n",
    "school_count = pycitysch_data[\"school_name\"].nunique()\n",
    "school_count"
   ]
  },
  {
   "cell_type": "code",
   "execution_count": null,
   "metadata": {},
   "outputs": [],
   "source": [
    "#Calculate the total number of students\n",
    "student_count = pycitysch_data[\"student_name\"].count()\n",
    "student_count"
   ]
  },
  {
   "cell_type": "code",
   "execution_count": null,
   "metadata": {},
   "outputs": [],
   "source": [
    "pycitysch_data_unique = pycitysch_data.drop_duplicates(subset=['school_name'])"
   ]
  },
  {
   "cell_type": "code",
   "execution_count": null,
   "metadata": {},
   "outputs": [],
   "source": [
    "# Calculate the total budget\n",
    "total_budget = pycitysch_data_unique [\"budget\"].sum()\n",
    "total_budget\n"
   ]
  },
  {
   "cell_type": "code",
   "execution_count": null,
   "metadata": {},
   "outputs": [],
   "source": [
    "average_math_score = pycitysch_data[\"math_score\"].mean()\n",
    "average_math_score"
   ]
  },
  {
   "cell_type": "code",
   "execution_count": null,
   "metadata": {},
   "outputs": [],
   "source": [
    "# Calculate the average (mean) reading score\n",
    "average_reading_score = pycitysch_data[\"reading_score\"].mean()\n",
    "average_reading_score"
   ]
  },
  {
   "cell_type": "code",
   "execution_count": null,
   "metadata": {},
   "outputs": [],
   "source": [
    "# Use the following to calculate the percentage of students who passed math (math scores greather than or equal to 70)\n",
    "passing_math_count = pycitysch_data[(student_data_df[\"math_score\"] >= 70)].count()[\"student_name\"]\n",
    "passing_math_percentage = passing_math_count / float(student_count) * 100\n",
    "passing_math_percentage"
   ]
  },
  {
   "cell_type": "code",
   "execution_count": null,
   "metadata": {},
   "outputs": [],
   "source": [
    "# Calculate the percentage of students who passed reading (hint: look at how the math percentage was calculated)\n",
    "passing_reading_count =  pycitysch_data[(student_data_df[\"reading_score\"] >= 70)].count()[\"student_name\"]\n",
    "passing_reading_percentage = passing_reading_count / float(student_count) * 100\n",
    "passing_reading_percentage"
   ]
  },
  {
   "cell_type": "code",
   "execution_count": null,
   "metadata": {},
   "outputs": [],
   "source": [
    "# Use the following to calculate the percentage of students that passed math and reading\n",
    "passing_math_reading_count = pycitysch_data[\n",
    "    (pycitysch_data[\"math_score\"] >= 70) & (pycitysch_data[\"reading_score\"] >= 70)\n",
    "].count()[\"student_name\"]\n",
    "overall_passing_rate = passing_math_reading_count /  float(student_count) * 100\n",
    "overall_passing_rate"
   ]
  },
  {
   "cell_type": "code",
   "execution_count": null,
   "metadata": {},
   "outputs": [],
   "source": [
    "# Create a high-level snapshot of the district's key metrics in a DataFrame\n",
    "\n",
    "\n",
    "\n",
    "\n",
    "district_summary = pd.DataFrame ({\"Total Schools\": [school_count],\"Total Students\": [student_count],\"Total Budget\": [total_budget],\"Average Math Score\":[average_math_score], \"Average Reading Score\"\n",
    "                                  : [average_reading_score],\"% Passing Math\":[passing_math_percentage], \"% Passing Reading\":[passing_reading_percentage],\"Overall Passing\":[overall_passing_rate]})\n",
    "\n",
    "# Formatting\n",
    "district_summary[\"Total Schools\"] = district_summary[\"Total Schools\"].map(\"{:,}\".format)\n",
    "district_summary[\"Total Students\"] = district_summary[\"Total Students\"].map(\"{:,}\".format)\n",
    "district_summary[\"Total Budget\"] = district_summary[\"Total Budget\"].map(\"${:,.2f}\".format)\n",
    "district_summary[\"Average Math Score\"] = district_summary[\"Average Math Score\"].map(\"{0:,.6f}\".format)\n",
    "district_summary[\"Average Reading Score\"] = district_summary[\"Average Reading Score\"].map(\"{0:,.5f}\".format)\n",
    "district_summary[\"% Passing Math\"] = district_summary[\"% Passing Math\"].map(\"{0:,.6f}\".format)\n",
    "district_summary[\"% Passing Reading\"] = district_summary[\"% Passing Reading\"].map(\"{0:,.6f}\".format)\n",
    "district_summary[\"Overall Passing\"] = district_summary[\"Overall Passing\"].map(\"{0:,.6f}\".format)\n",
    "\n",
    "\n",
    "\n",
    "\n",
    "# Display the DataFrame\n",
    "district_summary"
   ]
  },
  {
   "cell_type": "markdown",
   "metadata": {},
   "source": [
    "## School Summary"
   ]
  },
  {
   "cell_type": "code",
   "execution_count": null,
   "metadata": {},
   "outputs": [],
   "source": [
    "# Use the code provided to select the type per school from school_data\n",
    "school_types = school_data_df.set_index([\"school_name\"])[\"type\"]\n",
    "school_types"
   ]
  },
  {
   "cell_type": "code",
   "execution_count": null,
   "metadata": {},
   "outputs": [],
   "source": [
    "# Calculate the total student count per school from school_data\n",
    "per_school_counts = school_data_df.groupby(\"school_name\")[\"size\"].sum().reset_index()\n",
    "per_school_counts"
   ]
  },
  {
   "cell_type": "code",
   "execution_count": null,
   "metadata": {},
   "outputs": [],
   "source": [
    "per_school_budget = school_data_df.groupby(\"school_name\")[\"budget\"].sum() \n",
    "per_school_budget"
   ]
  },
  {
   "cell_type": "code",
   "execution_count": null,
   "metadata": {},
   "outputs": [],
   "source": [
    "per_school_capita= pycitysch_data.groupby(\"school_name\")[\"budget\"].sum() / pycitysch_data.groupby(\"school_name\")[\"size\"].sum()\n",
    "\n",
    "per_school_capita"
   ]
  },
  {
   "cell_type": "code",
   "execution_count": null,
   "metadata": {},
   "outputs": [],
   "source": [
    "# Calculate average math score per school\n",
    "per_school_math = pycitysch_data.groupby(\"school_name\")[\"math_score\"].mean().reset_index()\n",
    "\n",
    "\n",
    "per_school_reading= pycitysch_data.groupby(\"school_name\")[\"reading_score\"].mean().reset_index()\n"
   ]
  },
  {
   "cell_type": "code",
   "execution_count": null,
   "metadata": {},
   "outputs": [],
   "source": [
    "# Calculate the number of students per school with math scores of 70 or higher from school_data_complete\n",
    "students_passing_math = pycitysch_data[pycitysch_data['math_score'] >= 70]\n",
    "\n",
    "school_students_passing_math = students_passing_math.groupby('school_name')['student_name'].count().reset_index()\n",
    "school_students_passing_math.rename(columns={'student_name': 'num_students_passing_math'}, inplace=True)\n",
    "\n",
    "school_students_passing_math"
   ]
  },
  {
   "cell_type": "code",
   "execution_count": null,
   "metadata": {},
   "outputs": [],
   "source": [
    "# Calculate the number of students per school with reading scores of 70 or higher from school_data_complete\n",
    "students_passing_reading = pycitysch_data[pycitysch_data['reading_score'] >= 70]\n",
    "school_students_passing_reading = students_passing_reading.groupby('school_name')['student_name'].count().reset_index()\n",
    "school_students_passing_reading.rename(columns={'student_name': 'num_students_passing_math'}, inplace=True)\n",
    "\n",
    "school_students_passing_reading"
   ]
  },
  {
   "cell_type": "code",
   "execution_count": null,
   "metadata": {},
   "outputs": [],
   "source": [
    "# Use the provided code to calculate the number of students per school that passed both math and reading with scores of 70 or higher\n",
    "students_passing_math_and_reading = pycitysch_data[\n",
    "    (pycitysch_data[\"reading_score\"] >= 70) & (pycitysch_data[\"math_score\"] >= 70)\n",
    "]\n",
    "school_students_passing_math_and_reading = students_passing_math_and_reading.groupby([\"school_name\"]).size()\n",
    "\n",
    "school_students_passing_math_and_reading\n",
    "\n"
   ]
  },
  {
   "cell_type": "code",
   "execution_count": null,
   "metadata": {},
   "outputs": [],
   "source": [
    "per_school_passing_math = (school_students_passing_math['num_students_passing_math'] / per_school_counts['size']) * 100\n",
    "\n",
    "\n"
   ]
  },
  {
   "cell_type": "code",
   "execution_count": null,
   "metadata": {},
   "outputs": [],
   "source": [
    "per_school_passing_reading = (school_students_passing_reading['num_students_passing_reading'] / per_school_counts['size']) * 100\n",
    "per_school_passing_reading"
   ]
  },
  {
   "cell_type": "code",
   "execution_count": null,
   "metadata": {},
   "outputs": [],
   "source": [
    "per_school_passing_both = (school_students_passing_math_and_reading['num_students_passing_both'] / per_school_counts['size']) * 100\n"
   ]
  },
  {
   "cell_type": "code",
   "execution_count": null,
   "metadata": {},
   "outputs": [],
   "source": [
    "# Merge with per_school_counts to get the total student count per school\n",
    "per_school_passing_math = pd.merge(school_students_passing_math, per_school_counts, on='school_name', how='left')\n",
    "per_school_passing_math[\"% Passing Math\"] = (per_school_passing_math[\"passing_math_count\"] / per_school_passing_math['size']) * 100\n",
    "\n",
    "per_school_passing_reading = pd.merge(school_students_passing_reading, per_school_counts, on='school_name', how='left')\n",
    "per_school_passing_reading['% Passing Reading'] = (per_school_passing_reading['passing_reading_count'] / per_school_passing_reading['size']) * 100\n",
    "\n",
    "per_school_passing_both = pd.merge(school_students_passing_both, per_school_counts, on='school_name', how='left')\n",
    "per_school_passing_both['% Overall Passing'] = (per_school_passing_both['passing_both_count'] / per_school_passing_both['size']) * 100\n",
    "\n",
    "\n",
    "\n",
    "\n"
   ]
  },
  {
   "cell_type": "code",
   "execution_count": null,
   "metadata": {},
   "outputs": [],
   "source": [
    "per_school_passing_math = (school_students_passing_math/ per_school_counts) * 100\n",
    "per_school_passing_reading = (school_students_passing_reading / per_school_counts) * 100\n",
    "per_school_passing_both = (school_students_passing_math_and_reading / per_school_counts) * 100\n"
   ]
  },
  {
   "cell_type": "markdown",
   "metadata": {},
   "source": [
    "## Highest-Performing Schools (by % Overall Passing)"
   ]
  },
  {
   "cell_type": "code",
   "execution_count": null,
   "metadata": {},
   "outputs": [],
   "source": [
    "top_schools = top_performing_schools = per_school_summary.sort_values(by='% Overall Passing', ascending=False)\n",
    "top_schools.head(5)"
   ]
  },
  {
   "cell_type": "markdown",
   "metadata": {},
   "source": []
  },
  {
   "cell_type": "markdown",
   "metadata": {},
   "source": []
  },
  {
   "cell_type": "code",
   "execution_count": null,
   "metadata": {},
   "outputs": [],
   "source": []
  },
  {
   "cell_type": "code",
   "execution_count": null,
   "metadata": {},
   "outputs": [],
   "source": []
  },
  {
   "cell_type": "markdown",
   "metadata": {},
   "source": [
    "## Bottom Performing Schools (By % Overall Passing)"
   ]
  },
  {
   "cell_type": "markdown",
   "metadata": {},
   "source": [
    "## Math Scores by Grade"
   ]
  },
  {
   "cell_type": "code",
   "execution_count": null,
   "metadata": {},
   "outputs": [],
   "source": [
    "ninth_graders = pycitysch_data[(pycitysch_data[\"grade\"] == \"9th\")]\n",
    "tenth_graders = pycitysch_data[(pycitysch_data[\"grade\"] == \"10th\")]\n",
    "eleventh_graders = pycitysch_data[(pycitysch_data[\"grade\"] == \"11th\")]\n",
    "twelfth_graders = pycitysch_data[(pycitysch_data[\"grade\"] == \"12th\")]\n",
    "\n",
    "# Group by `school_name` and take the mean of the `math_score` column for each.\n",
    "ninth_grader_math_scores = ninth_graders.groupby(\"school_name\")[\"math_score\"].mean()\n",
    "tenth_grader_math_scores = tenth_graders.groupby(\"school_name\")[\"math_score\"].mean()\n",
    "eleventh_grader_math_scores = eleventh_graders.groupby(\"school_name\")[\"math_score\"].mean()\n",
    "twelfth_grader_math_scores = twelfth_graders.groupby(\"school_name\")[\"math_score\"].mean()\n",
    "\n",
    "\n",
    "# Combine each of the scores above into single DataFrame called `math_scores_by_grade`\n",
    "math_scores_by_grade =pd.DataFrame({\n",
    "    \"9th\": ninth_grader_math_scores,\n",
    "    \"10th\": tenth_grader_math_scores,\n",
    "    \"11th\": eleventh_grader_math_scores,\n",
    "    \"12th\": twelfth_grader_math_scores})\n",
    "\n",
    "# Minor data wrangling\n",
    "math_scores_by_grade.index.name = None\n",
    "\n",
    "math_scores_by_grade"
   ]
  },
  {
   "cell_type": "markdown",
   "metadata": {},
   "source": [
    "## Reading Score by Grade "
   ]
  },
  {
   "cell_type": "code",
   "execution_count": null,
   "metadata": {},
   "outputs": [],
   "source": [
    "# Use the code provided to separate the data by grade\n",
    "ninth_graders = pycitysch_data[(pycitysch_data[\"grade\"] == \"9th\")]\n",
    "tenth_graders = pycitysch_data[(pycitysch_data[\"grade\"] == \"10th\")]\n",
    "eleventh_graders = pycitysch_data[(pycitysch_data[\"grade\"] == \"11th\")]\n",
    "twelfth_graders = pycitysch_data[(pycitysch_data[\"grade\"] == \"12th\")]\n",
    "\n",
    "# Group by `school_name` and take the mean of the the `reading_score` column for each.\n",
    "ninth_grade_reading_scores = ninth_graders.groupby(\"school_name\")[\"reading_score\"].mean()\n",
    "tenth_grader_reading_scores = tenth_graders.groupby(\"school_name\")[\"reading_score\"].mean()\n",
    "eleventh_grader_reading_scores = eleventh_graders.groupby(\"school_name\")[\"reading_score\"].mean()\n",
    "twelfth_grader_reading_scores = twelfth_graders.groupby(\"school_name\")[\"reading_score\"].mean()\n",
    "\n",
    "# Combine each of the scores above into single DataFrame called `reading_scores_by_grade`\n",
    "reading_scores_by_grade = pd.DataFrame({\n",
    "    \"9th\": ninth_grade_reading_scores,\n",
    "    \"10th\": tenth_grader_reading_scores,\n",
    "    \"11th\": eleventh_grader_reading_scores,\n",
    "    \"12th\": twelfth_grader_reading_scores})\n",
    "\n",
    "# Minor data wrangling\n",
    "reading_scores_by_grade = reading_scores_by_grade[[\"9th\", \"10th\", \"11th\", \"12th\"]]\n",
    "reading_scores_by_grade.index.name = None\n",
    "\n",
    "# Display the DataFrame\n",
    "reading_scores_by_grade\n",
    "\n"
   ]
  },
  {
   "cell_type": "markdown",
   "metadata": {},
   "source": [
    "## Scores by School Spending"
   ]
  },
  {
   "cell_type": "code",
   "execution_count": null,
   "metadata": {},
   "outputs": [],
   "source": [
    "# Establish the bins\n",
    "spending_bins = [0, 585, 630, 645, 680]\n",
    "labels = [\"<$585\", \"$585-630\", \"$630-645\", \"$645-680\"]"
   ]
  },
  {
   "cell_type": "markdown",
   "metadata": {},
   "source": [
    "## Scores by School Size"
   ]
  },
  {
   "cell_type": "code",
   "execution_count": null,
   "metadata": {},
   "outputs": [],
   "source": [
    "# Establish the bins.\n",
    "size_bins = [0, 1000, 2000, 5000]\n",
    "labels = [\"Small (<1000)\", \"Medium (1000-2000)\", \"Large (2000-5000)\"]"
   ]
  },
  {
   "cell_type": "markdown",
   "metadata": {},
   "source": [
    "## Scores by School Type"
   ]
  },
  {
   "cell_type": "code",
   "execution_count": null,
   "metadata": {},
   "outputs": [],
   "source": [
    "\n",
    "average_reading_score_by_type = per_school_summary.groupby([\"School Type\"])[\"Average Reading Score\"].mean()\n",
    "average_percent_passing_math_by_type = per_school_summary.groupby([\"School Type\"])[\"% Passing Math\"].mean()\n",
    "average_percent_passing_reading_by_type = per_school_summary.groupby([\"School Type\"])[\"% Passing Reading\"].mean()\n",
    "average_percent_overall_passing_by_type = per_school_summary.groupby([\"School Type\"])[\"% Overall Passing\"].mean()"
   ]
  }
 ],
 "metadata": {
  "kernelspec": {
   "display_name": "dev",
   "language": "python",
   "name": "python3"
  },
  "language_info": {
   "codemirror_mode": {
    "name": "ipython",
    "version": 3
   },
   "file_extension": ".py",
   "mimetype": "text/x-python",
   "name": "python",
   "nbconvert_exporter": "python",
   "pygments_lexer": "ipython3",
   "version": "3.12.4"
  }
 },
 "nbformat": 4,
 "nbformat_minor": 2
}
